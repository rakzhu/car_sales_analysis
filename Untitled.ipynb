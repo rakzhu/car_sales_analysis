{
 "cells": [
  {
   "cell_type": "code",
   "execution_count": 1,
   "id": "75b56c7a-a387-4792-b589-7e4fb31fd8cd",
   "metadata": {},
   "outputs": [
    {
     "name": "stdout",
     "output_type": "stream",
     "text": [
      "Requirement already satisfied: pandas in c:\\users\\admin\\anaconda3\\lib\\site-packages (2.2.2)\n"
     ]
    },
    {
     "name": "stderr",
     "output_type": "stream",
     "text": [
      "ERROR: Could not find a version that satisfies the requirement sqlite3 (from versions: none)\n",
      "ERROR: No matching distribution found for sqlite3\n"
     ]
    }
   ],
   "source": [
    "!pip install pandas sqlite3\n",
    "\n"
   ]
  },
  {
   "cell_type": "code",
   "execution_count": 2,
   "id": "36484a7e-f95a-46f5-a33d-45cae7356eb9",
   "metadata": {},
   "outputs": [
    {
     "name": "stdout",
     "output_type": "stream",
     "text": [
      "Requirement already satisfied: pandas in c:\\users\\admin\\anaconda3\\lib\\site-packages (2.2.2)\n",
      "Requirement already satisfied: numpy>=1.26.0 in c:\\users\\admin\\anaconda3\\lib\\site-packages (from pandas) (1.26.4)\n",
      "Requirement already satisfied: python-dateutil>=2.8.2 in c:\\users\\admin\\anaconda3\\lib\\site-packages (from pandas) (2.9.0.post0)\n",
      "Requirement already satisfied: pytz>=2020.1 in c:\\users\\admin\\anaconda3\\lib\\site-packages (from pandas) (2024.1)\n",
      "Requirement already satisfied: tzdata>=2022.7 in c:\\users\\admin\\anaconda3\\lib\\site-packages (from pandas) (2023.3)\n",
      "Requirement already satisfied: six>=1.5 in c:\\users\\admin\\anaconda3\\lib\\site-packages (from python-dateutil>=2.8.2->pandas) (1.16.0)\n"
     ]
    }
   ],
   "source": [
    "!pip install pandas\n"
   ]
  },
  {
   "cell_type": "code",
   "execution_count": 3,
   "id": "1ad16902-ef15-4a7f-9db6-b7835dca49fd",
   "metadata": {},
   "outputs": [],
   "source": [
    "import pandas as pd \n",
    "import sqlite3\n"
   ]
  },
  {
   "cell_type": "code",
   "execution_count": 4,
   "id": "9031833a-7b5c-44f9-8ed3-4aadff33e585",
   "metadata": {},
   "outputs": [
    {
     "name": "stdout",
     "output_type": "stream",
     "text": [
      "         Date      Salesperson   Customer Name Car Make  Car Model  Car Year  \\\n",
      "0  2022-08-01  Monica Moore MD     Mary Butler   Nissan     Altima      2018   \n",
      "1  2023-03-15     Roberto Rose  Richard Pierce   Nissan      F-150      2016   \n",
      "2  2023-04-29     Ashley Ramos    Sandra Moore     Ford      Civic      2016   \n",
      "3  2022-09-04   Patrick Harris    Johnny Scott     Ford     Altima      2013   \n",
      "4  2022-06-16       Eric Lopez   Vanessa Jones    Honda  Silverado      2022   \n",
      "\n",
      "   Sale Price  Commission Rate  Commission Earned  \n",
      "0       15983         0.070495            1126.73  \n",
      "1       38474         0.134439            5172.40  \n",
      "2       33340         0.114536            3818.63  \n",
      "3       41937         0.092191            3866.20  \n",
      "4       20256         0.113490            2298.85  \n"
     ]
    }
   ],
   "source": [
    "# Load your CSV data into a pandas DataFrame\n",
    "file_path = \"car_sales_data.csv\"  \n",
    "df = pd.read_csv(file_path)\n",
    "\n",
    "# Connect to SQLite database (it will create a new DB if it doesn't exist)\n",
    "conn = sqlite3.connect('car_sales.db')\n",
    "cursor = conn.cursor()\n",
    "\n",
    "# Create a table with appropriate column names based on your dataset\n",
    "cursor.execute('''\n",
    "CREATE TABLE IF NOT EXISTS sales_data (\n",
    "    Date TEXT,\n",
    "    Salesperson TEXT,\n",
    "    Customer_Name TEXT,\n",
    "    Car_Make TEXT,\n",
    "    Car_Model TEXT,\n",
    "    Car_Year INTEGER,\n",
    "    Sale_Price REAL,\n",
    "    Commission_Rate REAL,\n",
    "    Commission_Earned REAL\n",
    ");\n",
    "''')\n",
    "\n",
    "# Insert data from DataFrame into the SQLite table\n",
    "df.to_sql('sales_data', conn, if_exists='replace', index=False)\n",
    "\n",
    "# Verify the first few rows to ensure the data is loaded correctly\n",
    "query = \"SELECT * FROM sales_data LIMIT 5\"\n",
    "result = pd.read_sql(query, conn)\n",
    "print(result)\n",
    "\n",
    "# Close the connection\n",
    "conn.close()\n"
   ]
  },
  {
   "cell_type": "code",
   "execution_count": 5,
   "id": "d7058536-c7a8-47b7-b35b-2d25d709f9eb",
   "metadata": {},
   "outputs": [
    {
     "name": "stdout",
     "output_type": "stream",
     "text": [
      "   COUNT(*)\n",
      "0   2500000\n"
     ]
    }
   ],
   "source": [
    "import pandas as pd\n",
    "import sqlite3\n",
    "\n",
    "conn = sqlite3.connect(\"car_sales.db\")\n",
    "\n",
    "query = \"SELECT COUNT(*) FROM sales_data;\"\n",
    "result = pd.read_sql(query, conn)\n",
    "print(result)\n",
    "\n",
    "conn.close()\n"
   ]
  },
  {
   "cell_type": "code",
   "execution_count": 6,
   "id": "e77e0709-1880-4708-bc24-b0e04dec9b43",
   "metadata": {},
   "outputs": [
    {
     "name": "stdout",
     "output_type": "stream",
     "text": [
      "Number of rows: 2500000\n",
      "Number of columns: 9\n"
     ]
    }
   ],
   "source": [
    "print(\"Number of rows:\", df.shape[0])\n",
    "print(\"Number of columns:\", df.shape[1])\n"
   ]
  },
  {
   "cell_type": "code",
   "execution_count": 8,
   "id": "7bc0e83b-8376-41ae-bbc3-735b65aafdd5",
   "metadata": {},
   "outputs": [
    {
     "name": "stdout",
     "output_type": "stream",
     "text": [
      "(2500000, 9)\n",
      "0\n"
     ]
    }
   ],
   "source": [
    "print(df.shape)  # total rows\n",
    "print(df.duplicated().sum())  # duplicated rows\n"
   ]
  },
  {
   "cell_type": "code",
   "execution_count": 12,
   "id": "3cae5f10-87b1-431a-b008-39e7ce6299f7",
   "metadata": {},
   "outputs": [
    {
     "name": "stdout",
     "output_type": "stream",
     "text": [
      "   cid               name     type  notnull dflt_value  pk\n",
      "0    0               Date     TEXT        0       None   0\n",
      "1    1        Salesperson     TEXT        0       None   0\n",
      "2    2      Customer Name     TEXT        0       None   0\n",
      "3    3           Car Make     TEXT        0       None   0\n",
      "4    4          Car Model     TEXT        0       None   0\n",
      "5    5           Car Year  INTEGER        0       None   0\n",
      "6    6         Sale Price  INTEGER        0       None   0\n",
      "7    7    Commission Rate     REAL        0       None   0\n",
      "8    8  Commission Earned     REAL        0       None   0\n"
     ]
    }
   ],
   "source": [
    "# Connect to the SQLite database\n",
    "conn = sqlite3.connect('car_sales.db')\n",
    "\n",
    "# Query to retrieve the structure of the table\n",
    "query = \"PRAGMA table_info(sales_data);\"\n",
    "structure = pd.read_sql(query, conn)\n",
    "print(structure)\n",
    "\n",
    "# Close the connection\n",
    "conn.close()\n"
   ]
  },
  {
   "cell_type": "code",
   "execution_count": 14,
   "id": "5388e7c9-a03d-4b75-84b6-adf62ca7d3af",
   "metadata": {},
   "outputs": [
    {
     "name": "stdout",
     "output_type": "stream",
     "text": [
      "   Duplicate Rows\n",
      "0               0\n"
     ]
    }
   ],
   "source": [
    "# Connect to the SQLite database\n",
    "conn = sqlite3.connect('car_sales.db')\n",
    "\n",
    "# Query to count duplicates\n",
    "query = '''\n",
    "SELECT COUNT(*) - COUNT(DISTINCT \"Date\" || \"Salesperson\" || \"Customer Name\" || \"Car Make\" || \"Car Model\" || \"Car Year\" || \"Sale Price\" || \"Commission Rate\" || \"Commission Earned\") AS \"Duplicate Rows\"\n",
    "FROM sales_data;\n",
    "'''\n",
    "\n",
    "# Run the query and display the result\n",
    "duplicates = pd.read_sql(query, conn)\n",
    "print(duplicates)\n",
    "\n",
    "# Close the connection\n",
    "conn.close()\n"
   ]
  },
  {
   "cell_type": "code",
   "execution_count": 15,
   "id": "b6c2ea60-8611-47f7-8f9e-f623c4e6f59b",
   "metadata": {},
   "outputs": [
    {
     "name": "stdout",
     "output_type": "stream",
     "text": [
      "   Missing Date  Missing Salesperson  Missing Customer Name  Missing Car Make  \\\n",
      "0             0                    0                      0                 0   \n",
      "\n",
      "   Missing Car Model  Missing Car Year  Missing Sale Price  \\\n",
      "0                  0                 0                   0   \n",
      "\n",
      "   Missing Commission Rate  Missing Commission Earned  \n",
      "0                        0                          0  \n"
     ]
    }
   ],
   "source": [
    "# Connect to the SQLite database\n",
    "conn = sqlite3.connect('car_sales.db')\n",
    "\n",
    "# Query to count NULLs in each column\n",
    "query = '''\n",
    "SELECT \n",
    "    SUM(CASE WHEN \"Date\" IS NULL THEN 1 ELSE 0 END) AS \"Missing Date\",\n",
    "    SUM(CASE WHEN \"Salesperson\" IS NULL THEN 1 ELSE 0 END) AS \"Missing Salesperson\",\n",
    "    SUM(CASE WHEN \"Customer Name\" IS NULL THEN 1 ELSE 0 END) AS \"Missing Customer Name\",\n",
    "    SUM(CASE WHEN \"Car Make\" IS NULL THEN 1 ELSE 0 END) AS \"Missing Car Make\",\n",
    "    SUM(CASE WHEN \"Car Model\" IS NULL THEN 1 ELSE 0 END) AS \"Missing Car Model\",\n",
    "    SUM(CASE WHEN \"Car Year\" IS NULL THEN 1 ELSE 0 END) AS \"Missing Car Year\",\n",
    "    SUM(CASE WHEN \"Sale Price\" IS NULL THEN 1 ELSE 0 END) AS \"Missing Sale Price\",\n",
    "    SUM(CASE WHEN \"Commission Rate\" IS NULL THEN 1 ELSE 0 END) AS \"Missing Commission Rate\",\n",
    "    SUM(CASE WHEN \"Commission Earned\" IS NULL THEN 1 ELSE 0 END) AS \"Missing Commission Earned\"\n",
    "FROM sales_data;\n",
    "'''\n",
    "\n",
    "# Run the query and display the result\n",
    "missing_values = pd.read_sql(query, conn)\n",
    "print(missing_values)\n",
    "\n",
    "# Close the connection\n",
    "conn.close()\n"
   ]
  },
  {
   "cell_type": "code",
   "execution_count": 25,
   "id": "885186e7-c49b-4eca-a0ab-b8e2d8e35730",
   "metadata": {},
   "outputs": [],
   "source": [
    "import sqlite3\n",
    "import pandas as pd\n",
    "\n",
    "# Connect to SQLite database\n",
    "conn = sqlite3.connect('car_sales.db')\n",
    "\n",
    "# Create a cursor object to execute SQL queries\n",
    "cursor = conn.cursor()\n"
   ]
  },
  {
   "cell_type": "code",
   "execution_count": 22,
   "id": "2b7cc988-38ab-4fa1-9b1b-ea639b84b438",
   "metadata": {},
   "outputs": [
    {
     "name": "stdout",
     "output_type": "stream",
     "text": [
      "   Car Model  Total Sales\n",
      "0  Silverado  15040374937\n",
      "1    Corolla  15016772687\n",
      "2      Civic  15009604790\n",
      "3      F-150  14988132564\n",
      "4     Altima  14975561877\n"
     ]
    }
   ],
   "source": [
    "# Query to find top-selling cars by total sales\n",
    "query_top_selling = '''\n",
    "SELECT \"Car Model\", SUM(\"Sale Price\") AS \"Total Sales\"\n",
    "FROM sales_data\n",
    "GROUP BY \"Car Model\"\n",
    "ORDER BY \"Total Sales\" DESC\n",
    "LIMIT 10;\n",
    "'''\n",
    "\n",
    "# Execute the query\n",
    "cursor.execute(query_top_selling)\n",
    "\n",
    "# Fetch the results and display them as a pandas DataFrame\n",
    "top_selling_cars = pd.DataFrame(cursor.fetchall(), columns=[\"Car Model\", \"Total Sales\"])\n",
    "print(top_selling_cars)\n"
   ]
  },
  {
   "cell_type": "code",
   "execution_count": 35,
   "id": "c18b870e-8b86-4d16-a0f6-f8f495394e2e",
   "metadata": {},
   "outputs": [
    {
     "data": {
      "image/png": "[encoded data removed]",
      "text/plain": [
       "<Figure size 1000x600 with 1 Axes>"
      ]
     },
     "metadata": {},
     "output_type": "display_data"
    }
   ],
   "source": [
    "import matplotlib.pyplot as plt\n",
    "\n",
    "# Plotting\n",
    "plt.figure(figsize=(10, 6))\n",
    "plt.barh(top_selling_cars[\"Car Model\"], top_selling_cars[\"Total Sales\"], color='skyblue')\n",
    "plt.xlabel(\"Total Sales\")\n",
    "plt.ylabel(\"Car Model\")\n",
    "plt.title(\"Top 5 Selling Car Models by Total Sales\")\n",
    "plt.gca().invert_yaxis()  # To display the highest on top\n",
    "plt.tight_layout()\n",
    "plt.show()\n"
   ]
  },
  {
   "cell_type": "code",
   "execution_count": 36,
   "id": "07134fc2-4f37-4736-a9c0-ba2f6f4555d1",
   "metadata": {},
   "outputs": [
    {
     "data": {
      "image/png": "[encoded data removed]",
      "text/plain": [
       "<Figure size 1000x600 with 1 Axes>"
      ]
     },
     "metadata": {},
     "output_type": "display_data"
    }
   ],
   "source": [
    "import matplotlib.pyplot as plt\n",
    "\n",
    "# Sort just in case (optional)\n",
    "top_selling_cars_sorted = top_selling_cars.sort_values(by=\"Total Sales\", ascending=True)\n",
    "\n",
    "# Plotting\n",
    "plt.figure(figsize=(10, 6))\n",
    "bars = plt.barh(top_selling_cars_sorted[\"Car Model\"], top_selling_cars_sorted[\"Total Sales\"], color='skyblue')\n",
    "\n",
    "# Add value labels at the end of each bar\n",
    "for bar in bars:\n",
    "    width = bar.get_width()\n",
    "    plt.text(width + 100000000,         # a bit to the right of the bar\n",
    "             bar.get_y() + bar.get_height()/2,\n",
    "             f\"${width:,.0f}\",          # formatted with commas\n",
    "             va='center', fontsize=9)\n",
    "\n",
    "plt.xlabel(\"Total Sales\")\n",
    "plt.title(\"Top 5 Selling Car Models by Total Sales\")\n",
    "plt.tight_layout()\n",
    "plt.show()\n"
   ]
  },
  {
   "cell_type": "code",
   "execution_count": 23,
   "id": "593a0271-d309-4830-8542-d35f22e7c8c7",
   "metadata": {},
   "outputs": [
    {
     "name": "stdout",
     "output_type": "stream",
     "text": [
      "   Car Model  Sales Count\n",
      "0     Altima       498819\n",
      "1      F-150       499679\n",
      "2    Corolla       500162\n",
      "3      Civic       500498\n",
      "4  Silverado       500842\n"
     ]
    }
   ],
   "source": [
    "# Query to find low inventory products (cars with the lowest sales count)\n",
    "query_low_inventory = '''\n",
    "SELECT \"Car Model\", COUNT(*) AS \"Sales Count\"\n",
    "FROM sales_data\n",
    "GROUP BY \"Car Model\"\n",
    "ORDER BY \"Sales Count\" ASC\n",
    "LIMIT 10;\n",
    "'''\n",
    "\n",
    "# Execute the query\n",
    "cursor.execute(query_low_inventory)\n",
    "\n",
    "# Fetch the results and display them as a pandas DataFrame\n",
    "low_inventory_cars = pd.DataFrame(cursor.fetchall(), columns=[\"Car Model\", \"Sales Count\"])\n",
    "print(low_inventory_cars)\n"
   ]
  },
  {
   "cell_type": "code",
   "execution_count": 37,
   "id": "61e61a09-ca01-4117-8d1e-3d7a98222b5a",
   "metadata": {},
   "outputs": [
    {
     "data": {
      "image/png": "[encoded data removed]",
      "text/plain": [
       "<Figure size 1000x600 with 1 Axes>"
      ]
     },
     "metadata": {},
     "output_type": "display_data"
    }
   ],
   "source": [
    "import matplotlib.pyplot as plt\n",
    "\n",
    "# Sort the data (just in case)\n",
    "low_inventory_sorted = low_inventory_cars.sort_values(by=\"Sales Count\", ascending=True)\n",
    "\n",
    "# Plot\n",
    "plt.figure(figsize=(10, 6))\n",
    "bars = plt.barh(low_inventory_sorted[\"Car Model\"], low_inventory_sorted[\"Sales Count\"], color='salmon')\n",
    "\n",
    "# Add value labels to the right end of each bar\n",
    "for bar in bars:\n",
    "    width = bar.get_width()\n",
    "    plt.text(width + 5000,  # a little offset for space\n",
    "             bar.get_y() + bar.get_height() / 2,\n",
    "             f\"{width:,}\",  # add commas for readability\n",
    "             va='center', fontsize=9)\n",
    "\n",
    "plt.xlabel(\"Number of Cars Sold\")\n",
    "plt.title(\"Low Inventory: Cars with the Fewest Sales\")\n",
    "plt.tight_layout()\n",
    "plt.show()\n"
   ]
  },
  {
   "cell_type": "code",
   "execution_count": 26,
   "id": "5bf68340-96a9-4384-a5c9-5fa5b8f28e80",
   "metadata": {},
   "outputs": [],
   "source": [
    "import sqlite3\n",
    "import pandas as pd\n",
    "\n",
    "# Connect to SQLite database\n",
    "conn = sqlite3.connect('car_sales.db')\n",
    "\n",
    "# Create a cursor object to execute SQL queries\n",
    "cursor = conn.cursor()"
   ]
  },
  {
   "cell_type": "code",
   "execution_count": 28,
   "id": "84207ac4-7598-4636-b16a-4c45bed0a2ac",
   "metadata": {},
   "outputs": [],
   "source": [
    "import sqlite3\n",
    "import pandas as pd\n",
    "\n",
    "# Connect to SQLite database\n",
    "conn = sqlite3.connect('car_sales.db')\n",
    "\n",
    "# Create a cursor object to execute SQL queries\n",
    "cursor = conn.cursor()\n"
   ]
  },
  {
   "cell_type": "code",
   "execution_count": 29,
   "id": "e1d05e0d-5c3a-4953-8483-a400bc2e3cc8",
   "metadata": {},
   "outputs": [
    {
     "name": "stdout",
     "output_type": "stream",
     "text": [
      "               Customer Name  Total Spend\n",
      "0              Michael Smith     35440398\n",
      "1            Michael Johnson     26416587\n",
      "2                David Smith     23946782\n",
      "3           Michael Williams     23945527\n",
      "4                James Smith     23753487\n",
      "...                      ...          ...\n",
      "518246         Jenna Bullock        10000\n",
      "518247        Jason Diaz DDS        10000\n",
      "518248  Deborah Mitchell DDS        10000\n",
      "518249    Cheyenne Dominguez        10000\n",
      "518250            Barry Lutz        10000\n",
      "\n",
      "[518251 rows x 2 columns]\n"
     ]
    }
   ],
   "source": [
    "# Query to segment customers by total spend\n",
    "query_total_spend = '''\n",
    "SELECT \"Customer Name\", SUM(\"Sale Price\") AS \"Total Spend\"\n",
    "FROM sales_data\n",
    "GROUP BY \"Customer Name\"\n",
    "ORDER BY \"Total Spend\" DESC;\n",
    "'''\n",
    "\n",
    "# Execute the query\n",
    "cursor.execute(query_total_spend)\n",
    "\n",
    "# Fetch the results and display them as a pandas DataFrame\n",
    "total_spend_segment = pd.DataFrame(cursor.fetchall(), columns=[\"Customer Name\", \"Total Spend\"])\n",
    "print(total_spend_segment)\n"
   ]
  },
  {
   "cell_type": "code",
   "execution_count": 30,
   "id": "1699d6db-b3df-4343-9250-96b46c196c5d",
   "metadata": {},
   "outputs": [
    {
     "name": "stdout",
     "output_type": "stream",
     "text": [
      "          Customer Name  Number of Purchases\n",
      "0         Michael Smith                 1167\n",
      "1       Michael Johnson                  889\n",
      "2           David Smith                  796\n",
      "3           James Smith                  789\n",
      "4        Jennifer Smith                  787\n",
      "...                 ...                  ...\n",
      "518246   Aaron Andersen                    1\n",
      "518247   Aaron Allen MD                    1\n",
      "518248     Aaron Ali MD                    1\n",
      "518249  Aaron Adams DDS                    1\n",
      "518250     Aaron Abbott                    1\n",
      "\n",
      "[518251 rows x 2 columns]\n"
     ]
    }
   ],
   "source": [
    "# Query to segment customers by number of purchases\n",
    "query_purchase_count = '''\n",
    "SELECT \"Customer Name\", COUNT(*) AS \"Number of Purchases\"\n",
    "FROM sales_data\n",
    "GROUP BY \"Customer Name\"\n",
    "ORDER BY \"Number of Purchases\" DESC;\n",
    "'''\n",
    "\n",
    "# Execute the query\n",
    "cursor.execute(query_purchase_count)\n",
    "\n",
    "# Fetch the results and display them as a pandas DataFrame\n",
    "purchase_count_segment = pd.DataFrame(cursor.fetchall(), columns=[\"Customer Name\", \"Number of Purchases\"])\n",
    "print(purchase_count_segment)\n"
   ]
  },
  {
   "cell_type": "code",
   "execution_count": 31,
   "id": "7df5be8e-25d8-45f5-84e1-dcf2d02d1158",
   "metadata": {},
   "outputs": [],
   "source": [
    "# Close the cursor and connection\n",
    "cursor.close()\n",
    "conn.close()\n"
   ]
  },
  {
   "cell_type": "code",
   "execution_count": 32,
   "id": "bc2c8b11-921c-401e-83f0-8cd03bb262a7",
   "metadata": {},
   "outputs": [
    {
     "name": "stdout",
     "output_type": "stream",
     "text": [
      "      Customer Name  Total Spend  Number of Purchases           CLV\n",
      "0     Michael Smith     35440398                 1167  30368.807198\n",
      "1   Michael Johnson     26416587                  889  29714.946007\n",
      "2       David Smith     23946782                  796  30083.896985\n",
      "3  Michael Williams     23945527                  786  30349.210393\n",
      "4       James Smith     23753487                  789  30182.321474\n"
     ]
    }
   ],
   "source": [
    "# Calculate CLV for each customer\n",
    "total_spend_segment['CLV'] = total_spend_segment['Total Spend'] / purchase_count_segment['Number of Purchases']\n",
    "\n",
    "# Merge the Total Spend and Number of Purchases dataframes to have everything in one table\n",
    "customer_data = pd.merge(total_spend_segment, purchase_count_segment, on=\"Customer Name\")\n",
    "\n",
    "# Display the data with CLV\n",
    "print(customer_data[['Customer Name', 'Total Spend', 'Number of Purchases', 'CLV']].head())\n"
   ]
  },
  {
   "cell_type": "code",
   "execution_count": 33,
   "id": "409226dd-5d86-4f5a-ae02-c0670ed97b0c",
   "metadata": {},
   "outputs": [
    {
     "name": "stdout",
     "output_type": "stream",
     "text": [
      "CLV Segment\n",
      "Medium-Value    414598\n",
      "High-Value       51827\n",
      "Low-Value        51826\n",
      "Name: count, dtype: int64\n",
      "       Customer Name           CLV   CLV Segment\n",
      "0      Michael Smith  30368.807198  Medium-Value\n",
      "1    Michael Johnson  29714.946007  Medium-Value\n",
      "2        David Smith  30083.896985  Medium-Value\n",
      "3   Michael Williams  30349.210393  Medium-Value\n",
      "4        James Smith  30182.321474  Medium-Value\n",
      "5     Jennifer Smith  29339.716285  Medium-Value\n",
      "6       Robert Smith  30547.579576  Medium-Value\n",
      "7  Christopher Smith  29660.895582  Medium-Value\n",
      "8      Michael Jones  30071.225543  Medium-Value\n",
      "9         John Smith  30071.587432  Medium-Value\n"
     ]
    }
   ],
   "source": [
    "# Calculate CLV quantiles\n",
    "high_threshold = customer_data['CLV'].quantile(0.90)\n",
    "low_threshold = customer_data['CLV'].quantile(0.10)\n",
    "\n",
    "# Segment customers\n",
    "def clv_segment(clv):\n",
    "    if clv >= high_threshold:\n",
    "        return 'High-Value'\n",
    "    elif clv <= low_threshold:\n",
    "        return 'Low-Value'\n",
    "    else:\n",
    "        return 'Medium-Value'\n",
    "\n",
    "customer_data['CLV Segment'] = customer_data['CLV'].apply(clv_segment)\n",
    "\n",
    "# Check how many customers fall into each category\n",
    "print(customer_data['CLV Segment'].value_counts())\n",
    "print(customer_data[['Customer Name', 'CLV', 'CLV Segment']].head(10))\n"
   ]
  },
  {
   "cell_type": "code",
   "execution_count": 34,
   "id": "d68d9786-07fc-4e08-907d-d391038fce1b",
   "metadata": {},
   "outputs": [
    {
     "ename": "NameError",
     "evalue": "name 'df_sales_top5' is not defined",
     "output_type": "error",
     "traceback": [
      "\u001b[1;31m---------------------------------------------------------------------------\u001b[0m",
      "\u001b[1;31mNameError\u001b[0m                                 Traceback (most recent call last)",
      "Cell \u001b[1;32mIn[34], line 6\u001b[0m\n\u001b[0;32m      4\u001b[0m \u001b[38;5;66;03m# Sample: Assuming df_sales_top5 contains 'Car Model' and 'Total Sales'\u001b[39;00m\n\u001b[0;32m      5\u001b[0m plt\u001b[38;5;241m.\u001b[39mfigure(figsize\u001b[38;5;241m=\u001b[39m(\u001b[38;5;241m10\u001b[39m, \u001b[38;5;241m6\u001b[39m))\n\u001b[1;32m----> 6\u001b[0m sns\u001b[38;5;241m.\u001b[39mbarplot(data\u001b[38;5;241m=\u001b[39mdf_sales_top5, x\u001b[38;5;241m=\u001b[39m\u001b[38;5;124m'\u001b[39m\u001b[38;5;124mTotal Sales\u001b[39m\u001b[38;5;124m'\u001b[39m, y\u001b[38;5;241m=\u001b[39m\u001b[38;5;124m'\u001b[39m\u001b[38;5;124mCar Model\u001b[39m\u001b[38;5;124m'\u001b[39m, palette\u001b[38;5;241m=\u001b[39m\u001b[38;5;124m'\u001b[39m\u001b[38;5;124mBlues_d\u001b[39m\u001b[38;5;124m'\u001b[39m)\n\u001b[0;32m      7\u001b[0m plt\u001b[38;5;241m.\u001b[39mtitle(\u001b[38;5;124m'\u001b[39m\u001b[38;5;124mTop 5 Car Models by Total Sales\u001b[39m\u001b[38;5;124m'\u001b[39m)\n\u001b[0;32m      8\u001b[0m plt\u001b[38;5;241m.\u001b[39mxlabel(\u001b[38;5;124m'\u001b[39m\u001b[38;5;124mTotal Sales ($)\u001b[39m\u001b[38;5;124m'\u001b[39m)\n",
      "\u001b[1;31mNameError\u001b[0m: name 'df_sales_top5' is not defined"
     ]
    },
    {
     "data": {
      "text/plain": [
       "<Figure size 1000x600 with 0 Axes>"
      ]
     },
     "metadata": {},
     "output_type": "display_data"
    }
   ],
   "source": [
    "import seaborn as sns\n",
    "import matplotlib.pyplot as plt\n",
    "\n",
    "# Sample: Assuming df_sales_top5 contains 'Car Model' and 'Total Sales'\n",
    "plt.figure(figsize=(10, 6))\n",
    "sns.barplot(data=df_sales_top5, x='Total Sales', y='Car Model', palette='Blues_d')\n",
    "plt.title('Top 5 Car Models by Total Sales')\n",
    "plt.xlabel('Total Sales ($)')\n",
    "plt.ylabel('Car Model')\n",
    "plt.tight_layout()\n",
    "plt.show()\n"
   ]
  },
  {
   "cell_type": "code",
   "execution_count": null,
   "id": "227083b6-d478-4f07-8ee6-3caed8c3fe7a",
   "metadata": {},
   "outputs": [],
   "source": []
  }
 ],
 "metadata": {
  "kernelspec": {
   "display_name": "Python 3 (ipykernel)",
   "language": "python",
   "name": "python3"
  },
  "language_info": {
   "codemirror_mode": {
    "name": "ipython",
    "version": 3
   },
   "file_extension": ".py",
   "mimetype": "text/x-python",
   "name": "python",
   "nbconvert_exporter": "python",
   "pygments_lexer": "ipython3",
   "version": "3.12.7"
  }
 },
 "nbformat": 4,
 "nbformat_minor": 5
}
